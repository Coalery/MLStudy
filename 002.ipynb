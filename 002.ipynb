{
 "cells": [
  {
   "cell_type": "code",
   "execution_count": 1,
   "metadata": {},
   "outputs": [
    {
     "name": "stdout",
     "output_type": "stream",
     "text": [
      "WARNING:tensorflow:From D:\\ProgramFiles\\anaconda\\envs\\py37\\lib\\site-packages\\tensorflow_core\\python\\compat\\v2_compat.py:88: disable_resource_variables (from tensorflow.python.ops.variable_scope) is deprecated and will be removed in a future version.\n",
      "Instructions for updating:\n",
      "non-resource variables are not supported in the long term\n"
     ]
    }
   ],
   "source": [
    "import tensorflow.compat.v1 as tf\n",
    "tf.disable_v2_behavior()"
   ]
  },
  {
   "cell_type": "code",
   "execution_count": 2,
   "metadata": {},
   "outputs": [],
   "source": [
    "x_train = [1, 2, 3]\n",
    "y_train = [1, 2, 3]\n",
    "\n",
    "W = tf.Variable(tf.random_normal([1]), name='weight')\n",
    "b = tf.Variable(tf.random_normal([1]), name='bias')\n",
    "\n",
    "hypothesis = x_train * W + b"
   ]
  },
  {
   "cell_type": "code",
   "execution_count": 3,
   "metadata": {},
   "outputs": [],
   "source": [
    "cost = tf.reduce_mean(tf.square(hypothesis - y_train))"
   ]
  },
  {
   "cell_type": "code",
   "execution_count": 4,
   "metadata": {},
   "outputs": [],
   "source": [
    "optimizer = tf.train.GradientDescentOptimizer(learning_rate = 0.01)\n",
    "train = optimizer.minimize(cost)"
   ]
  },
  {
   "cell_type": "code",
   "execution_count": 5,
   "metadata": {},
   "outputs": [
    {
     "name": "stdout",
     "output_type": "stream",
     "text": [
      "0 36.392673 [-0.67445743] [-2.5267527]\n",
      "100 0.19943094 [1.518653] [-1.1790696]\n",
      "200 0.12323622 [1.4077227] [-0.9268499]\n",
      "300 0.07615247 [1.3205072] [-0.7285884]\n",
      "400 0.04705754 [1.2519479] [-0.5727365]\n",
      "500 0.029078692 [1.1980538] [-0.45022303]\n",
      "600 0.017968865 [1.1556883] [-0.35391626]\n",
      "700 0.01110367 [1.1223853] [-0.27821058]\n",
      "800 0.006861388 [1.096206] [-0.21869873]\n",
      "900 0.0042399243 [1.0756267] [-0.17191724]\n",
      "1000 0.0026200218 [1.0594494] [-0.13514265]\n",
      "1100 0.0016190116 [1.0467327] [-0.10623439]\n",
      "1200 0.0010004478 [1.0367361] [-0.08350982]\n",
      "1300 0.0006182168 [1.0288779] [-0.06564625]\n",
      "1400 0.00038201886 [1.0227007] [-0.05160391]\n",
      "1500 0.00023606273 [1.0178447] [-0.04056523]\n",
      "1600 0.00014587055 [1.0140275] [-0.03188793]\n",
      "1700 9.014021e-05 [1.011027] [-0.02506677]\n",
      "1800 5.570054e-05 [1.0086682] [-0.01970475]\n",
      "1900 3.4420686e-05 [1.0068141] [-0.01548982]\n",
      "2000 2.1269263e-05 [1.0053563] [-0.01217631]\n"
     ]
    }
   ],
   "source": [
    "sess = tf.Session()\n",
    "sess.run(tf.global_variables_initializer())\n",
    "\n",
    "for step in range(2001):\n",
    "    sess.run(train)\n",
    "    if step % 100 == 0:\n",
    "        print(step, sess.run(cost), sess.run(W), sess.run(b))"
   ]
  },
  {
   "cell_type": "code",
   "execution_count": null,
   "metadata": {},
   "outputs": [],
   "source": []
  }
 ],
 "metadata": {
  "kernelspec": {
   "display_name": "Python 3",
   "language": "python",
   "name": "python3"
  },
  "language_info": {
   "codemirror_mode": {
    "name": "ipython",
    "version": 3
   },
   "file_extension": ".py",
   "mimetype": "text/x-python",
   "name": "python",
   "nbconvert_exporter": "python",
   "pygments_lexer": "ipython3",
   "version": "3.7.9"
  }
 },
 "nbformat": 4,
 "nbformat_minor": 4
}
