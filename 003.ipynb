{
 "cells": [
  {
   "cell_type": "code",
   "execution_count": 1,
   "metadata": {},
   "outputs": [
    {
     "name": "stdout",
     "output_type": "stream",
     "text": [
      "WARNING:tensorflow:From D:\\ProgramFiles\\anaconda\\envs\\py37\\lib\\site-packages\\tensorflow_core\\python\\compat\\v2_compat.py:88: disable_resource_variables (from tensorflow.python.ops.variable_scope) is deprecated and will be removed in a future version.\n",
      "Instructions for updating:\n",
      "non-resource variables are not supported in the long term\n"
     ]
    }
   ],
   "source": [
    "import tensorflow.compat.v1 as tf\n",
    "tf.disable_v2_behavior()"
   ]
  },
  {
   "cell_type": "code",
   "execution_count": 2,
   "metadata": {},
   "outputs": [],
   "source": [
    "W = tf.Variable(tf.random_normal([1]), name='weight')\n",
    "b = tf.Variable(tf.random_normal([1]), name='bias')\n",
    "\n",
    "X = tf.placeholder(tf.float32, shape=[None])\n",
    "Y = tf.placeholder(tf.float32, shape=[None])"
   ]
  },
  {
   "cell_type": "code",
   "execution_count": 3,
   "metadata": {},
   "outputs": [],
   "source": [
    "hypothesis = X * W + b"
   ]
  },
  {
   "cell_type": "code",
   "execution_count": 5,
   "metadata": {},
   "outputs": [],
   "source": [
    "cost = tf.reduce_mean(tf.square(hypothesis - Y))"
   ]
  },
  {
   "cell_type": "code",
   "execution_count": 6,
   "metadata": {},
   "outputs": [],
   "source": [
    "optimizer = tf.train.GradientDescentOptimizer(learning_rate = 0.01)\n",
    "train = optimizer.minimize(cost)"
   ]
  },
  {
   "cell_type": "code",
   "execution_count": 7,
   "metadata": {},
   "outputs": [],
   "source": [
    "sess = tf.Session()\n",
    "sess.run(tf.global_variables_initializer())"
   ]
  },
  {
   "cell_type": "code",
   "execution_count": 8,
   "metadata": {},
   "outputs": [
    {
     "name": "stdout",
     "output_type": "stream",
     "text": [
      "0 3.590548 [1.1549735] [-0.88520443]\n",
      "100 0.33027533 [1.3718479] [-0.24248908]\n",
      "200 0.16776903 [1.2650228] [0.14318347]\n",
      "300 0.08522121 [1.1888866] [0.41805938]\n",
      "400 0.043289587 [1.1346229] [0.6139686]\n",
      "500 0.021989666 [1.0959482] [0.75359654]\n",
      "600 0.011170024 [1.0683839] [0.8531121]\n",
      "700 0.0056740143 [1.0487386] [0.9240383]\n",
      "800 0.0028822245 [1.0347369] [0.9745887]\n",
      "900 0.0014640801 [1.0247576] [1.0106169]\n",
      "1000 0.00074371125 [1.0176454] [1.0362946]\n",
      "1100 0.00037776766 [1.012576] [1.0545967]\n",
      "1200 0.00019190356 [1.0089632] [1.0676396]\n",
      "1300 9.74819e-05 [1.0063883] [1.076936]\n",
      "1400 4.9517104e-05 [1.0045531] [1.0835619]\n",
      "1500 2.5151754e-05 [1.003245] [1.0882844]\n",
      "1600 1.2778144e-05 [1.0023129] [1.0916495]\n",
      "1700 6.4908877e-06 [1.0016485] [1.0940484]\n",
      "1800 3.2978537e-06 [1.001175] [1.0957576]\n",
      "1900 1.6751346e-06 [1.0008376] [1.0969763]\n",
      "2000 8.5118336e-07 [1.000597] [1.0978447]\n"
     ]
    }
   ],
   "source": [
    "for step in range(2001):\n",
    "    cost_val, W_val, b_val, _ = sess.run([cost, W, b, train], feed_dict={X: [1, 2, 3, 4, 5], Y: [2.1, 3.1, 4.1, 5.1, 6.1]})\n",
    "    if step % 100 == 0:\n",
    "        print(step, cost_val, W_val, b_val)"
   ]
  },
  {
   "cell_type": "code",
   "execution_count": 9,
   "metadata": {},
   "outputs": [
    {
     "name": "stdout",
     "output_type": "stream",
     "text": [
      "[6.1008296]\n",
      "[3.599337]\n",
      "[2.59874  4.599934]\n"
     ]
    }
   ],
   "source": [
    "print(sess.run(hypothesis, feed_dict={X: [5]}))\n",
    "print(sess.run(hypothesis, feed_dict={X: [2.5]}))\n",
    "print(sess.run(hypothesis, feed_dict={X: [1.5, 3.5]}))"
   ]
  },
  {
   "cell_type": "code",
   "execution_count": null,
   "metadata": {},
   "outputs": [],
   "source": []
  }
 ],
 "metadata": {
  "kernelspec": {
   "display_name": "Python 3",
   "language": "python",
   "name": "python3"
  },
  "language_info": {
   "codemirror_mode": {
    "name": "ipython",
    "version": 3
   },
   "file_extension": ".py",
   "mimetype": "text/x-python",
   "name": "python",
   "nbconvert_exporter": "python",
   "pygments_lexer": "ipython3",
   "version": "3.7.9"
  }
 },
 "nbformat": 4,
 "nbformat_minor": 4
}
